{
  "cells": [
    {
      "cell_type": "code",
      "execution_count": null,
      "metadata": {
        "id": "DeEy_X7NPWJp",
        "outputId": "4344d486-a4b4-4d28-9633-dfea5946aff5"
      },
      "outputs": [
        {
          "name": "stdout",
          "output_type": "stream",
          "text": [
            "[5]\n",
            "[5, 30]\n",
            "[5, 30, 2]\n",
            "[5, 30, 2, 10]\n",
            "[5, 30, 2, 10, -6]\n",
            "\n",
            "<class 'list'>\n"
          ]
        }
      ],
      "source": [
        "# Task 1\n",
        "# With append\n",
        "\n",
        "\n",
        "list1= []\n",
        "num1 = int (input('Enter number of inputs : '))\n",
        "for i in range (1,num1+1) :\n",
        "    a = int(input (\"Enter number here : \"))\n",
        "    list1.append(a)\n",
        "    print (list1)\n",
        "\n",
        "print()\n",
        "print(type(list1))"
      ]
    },
    {
      "cell_type": "code",
      "execution_count": null,
      "metadata": {
        "id": "hkpujJlHPWJq",
        "outputId": "de760b9a-e5e6-4287-e18e-337c6e5744bd"
      },
      "outputs": [
        {
          "name": "stdout",
          "output_type": "stream",
          "text": [
            "[5]\n",
            "[5, 30]\n",
            "[5, 30, 2]\n",
            "[5, 30, 2, 10]\n",
            "[5, 30, 2, 10, -6]\n",
            "\n",
            "<class 'int'>\n",
            "<class 'list'>\n"
          ]
        }
      ],
      "source": [
        "#Task 1\n",
        "# without append function\n",
        "\n",
        "list2 = []\n",
        "num2 = int (input(\"Enter number of inputs : \"))\n",
        "for i1 in range(num2) :\n",
        "    a1 = int (input (\"Enter number here : \"))\n",
        "    list2 += [a1]\n",
        "    print(list2)\n",
        "\n",
        "print()\n",
        "print(type(a1))\n",
        "print(type(list2))"
      ]
    },
    {
      "cell_type": "code",
      "execution_count": 2,
      "metadata": {
        "colab": {
          "base_uri": "https://localhost:8080/"
        },
        "id": "AGh8YYc1PWJr",
        "outputId": "5a69df08-6fdd-4f5a-f335-5102d9ddc38e"
      },
      "outputs": [
        {
          "output_type": "stream",
          "name": "stdout",
          "text": [
            "Enter a list of elements separated by commas: [5, -5, 100, 1, 0]\n",
            "<class 'str'>\n",
            "List created from input => ['5', ' -5', ' 100', ' 1', ' 0']\n",
            "List created by reversing new list => [' 0', ' 1', ' 100', ' -5', '5']\n",
            "<class 'list'>\n"
          ]
        }
      ],
      "source": [
        "# Task 2\n",
        "\n",
        "temp =str()\n",
        "x = input('Enter a list of elements separated by commas: ')\n",
        "print(type(x))\n",
        "new_list=[]\n",
        "for i in range (1,len(x)-1) :\n",
        "  if x[i] == ',' :\n",
        "    new_list.append(temp)\n",
        "    temp =str()\n",
        "  else :\n",
        "    temp += x[i]\n",
        "\n",
        "new_list.append(temp)\n",
        "print(f'List created from input => {new_list}')\n",
        "\n",
        "rev_list =[]\n",
        "for m in range(-1,-len(new_list)-1,-1) :\n",
        "    rev_list.append(new_list[m])\n",
        "\n",
        "print(f'List created by reversing new list => {rev_list}')\n",
        "print(type(rev_list))\n",
        "\n",
        "#There might be space (  ) before every component of a list\n",
        "#That's not my fault , the inputs were directly copied from the provided Lab file in BUX\n",
        "#The output also have the space . Thus , I do not feel any urge to change it\n",
        "#But if you input the string without any space , then there will be no space on the output\n",
        "#The quotatiom mark in every component of list indicates because of string addons\n",
        "#The quotation mark less version is on the next cell\n",
        "#In the next problem tasks , list component will be declared as integer in order to match the lab file"
      ]
    },
    {
      "cell_type": "code",
      "execution_count": null,
      "metadata": {
        "id": "TUfctEO7PWJr",
        "outputId": "b703a1c0-8c28-4eb3-8c70-a0d6bb723826"
      },
      "outputs": [
        {
          "name": "stdout",
          "output_type": "stream",
          "text": [
            "<class 'str'>\n",
            "List created from input => [5, -5, 100, 1, 0]\n",
            "List created by reversing new list => [0, 1, 100, -5, 5]\n",
            "<class 'list'>\n"
          ]
        }
      ],
      "source": [
        "# Task 2 revised 2.0\n",
        "\n",
        "temp =str()\n",
        "x = input('Enter a list of elements separated by commas: ')\n",
        "print(type(x))\n",
        "new_list=[]\n",
        "for i in range (1,len(x)-1) :\n",
        "  if x[i] == ',' :\n",
        "    new_list.append(int(temp))\n",
        "    temp =str()\n",
        "  else :\n",
        "    temp += x[i]\n",
        "\n",
        "new_list.append(int(temp))\n",
        "print(f'List created from input => {new_list}')\n",
        "\n",
        "rev_list =[]\n",
        "for m in range(-1,-len(new_list)-1,-1) :\n",
        "    rev_list.append(int(new_list[m]))\n",
        "\n",
        "print(f'List created by reversing new list => {rev_list}')\n",
        "print(type(rev_list))"
      ]
    },
    {
      "cell_type": "code",
      "execution_count": null,
      "metadata": {
        "id": "SJsHEBiyPWJr",
        "outputId": "70352424-a178-4838-b63e-1e45a13be60a"
      },
      "outputs": [
        {
          "name": "stdout",
          "output_type": "stream",
          "text": [
            "<class 'str'>\n",
            "List created from input => [10, 20, 24, 25, 26, 35, 70]\n",
            "Modified List => [24, 25, 26]\n",
            "<class 'list'>\n"
          ]
        }
      ],
      "source": [
        "# Task 3\n",
        "\n",
        "temp = str()\n",
        "List3 = input(\"Enter a list of elements separated by commas: \")\n",
        "print(type (List3))\n",
        "new_list=[]\n",
        "for i in range (len(List3)) :\n",
        "  if List3[i] == ',' :\n",
        "    new_list.append(int(temp))\n",
        "    temp =str()\n",
        "  else :\n",
        "    temp += List3[i]\n",
        "\n",
        "new_list.append(int(temp))\n",
        "print(f'List created from input => {new_list}')\n",
        "new_list2 = []\n",
        "if len(new_list) <= 3 :\n",
        "    print(f'Not Possible')\n",
        "elif len(new_list) == 4 :\n",
        "    print(f'[]')\n",
        "else :\n",
        "    for i in range(len(new_list)) :\n",
        "        if i == 0  or i == 1 :\n",
        "            pass\n",
        "        elif i == (len(new_list)-2) or i == (len(new_list)-1):\n",
        "            pass\n",
        "        else :\n",
        "            new_list2.append(new_list[i])\n",
        "    print(f'Modified List => {new_list2}')\n",
        "    print(type(new_list2))"
      ]
    },
    {
      "cell_type": "code",
      "execution_count": null,
      "metadata": {
        "id": "QoGtA6nIPWJs",
        "outputId": "4b86ebc3-3956-4309-9f25-f0c8ba24022d"
      },
      "outputs": [
        {
          "name": "stdout",
          "output_type": "stream",
          "text": [
            "True\n"
          ]
        }
      ],
      "source": [
        "# Task 4\n",
        "# Given Sample input 1\n",
        "\n",
        "list_one=[1,4,3,2,6]\n",
        "list_two=[5,6,9,8,7]\n",
        "flag = False\n",
        "for i in range(len(list_one)) :\n",
        "    for j in range(len(list_two)) :\n",
        "        if list_one[i] == list_two[j] :\n",
        "            flag = True\n",
        "            break\n",
        "        else :\n",
        "            pass\n",
        "\n",
        "print(flag)"
      ]
    },
    {
      "cell_type": "code",
      "execution_count": null,
      "metadata": {
        "id": "ONv67yzcPWJs",
        "outputId": "2bd29739-f64e-4081-b8f3-9d179def889b"
      },
      "outputs": [
        {
          "name": "stdout",
          "output_type": "stream",
          "text": [
            "False\n"
          ]
        }
      ],
      "source": [
        "# Task 4\n",
        "# Given Sample input 2\n",
        "\n",
        "list_one=[1,4,3,2,5]\n",
        "list_two=[8,7,6,9]\n",
        "flag = False\n",
        "for i in range(len(list_one)) :\n",
        "    for j in range(len(list_two)) :\n",
        "        if list_one[i] == list_two[j] :\n",
        "            flag = True\n",
        "            break\n",
        "        else :\n",
        "            pass\n",
        "\n",
        "print(flag)"
      ]
    },
    {
      "cell_type": "code",
      "execution_count": null,
      "metadata": {
        "id": "6V2DxLMxPWJs",
        "outputId": "96a524f9-6c97-4da9-f125-e53e15740799"
      },
      "outputs": [
        {
          "name": "stdout",
          "output_type": "stream",
          "text": [
            "[1, 4, 7, 6, 1, 3, 9]\n"
          ]
        }
      ],
      "source": [
        "# Task 5\n",
        "# Given Sample 1\n",
        "\n",
        "List_one = [1,4,7,5]\n",
        "List_two = [6,1,3,9]\n",
        "new_list2 = []\n",
        "for i in range(len(List_one)-1) :\n",
        "    new_list2.append(List_one[i])\n",
        "\n",
        "for j in range(len(list_two)) :\n",
        "    new_list2.append(List_two[j])\n",
        "\n",
        "print(new_list2)"
      ]
    },
    {
      "cell_type": "code",
      "execution_count": null,
      "metadata": {
        "id": "garDkp_kPWJs",
        "outputId": "d00fed5d-d26a-45b5-c7bc-99693d6d5083"
      },
      "outputs": [
        {
          "name": "stdout",
          "output_type": "stream",
          "text": [
            "[1, 3, 5, 7, 9, 2, 4, 6, 8]\n"
          ]
        }
      ],
      "source": [
        "# Task 5\n",
        "# Given Sample 2\n",
        "\n",
        "List_one = [1,3,5,7,9,10]\n",
        "List_two = [2,4,6,8]\n",
        "new_list2 = []\n",
        "for i in range(len(List_one)-1) :\n",
        "    new_list2.append(List_one[i])\n",
        "\n",
        "for j in range(len(list_two)) :\n",
        "    new_list2.append(List_two[j])\n",
        "\n",
        "print(new_list2)"
      ]
    },
    {
      "cell_type": "code",
      "execution_count": null,
      "metadata": {
        "id": "EpR5Ef7-PWJs",
        "outputId": "7d33506f-d669-4d8c-daf5-7fcbb040c5e5"
      },
      "outputs": [
        {
          "name": "stdout",
          "output_type": "stream",
          "text": [
            "[2, 4, 6, 8, 10, 12, -14, -16]\n"
          ]
        }
      ],
      "source": [
        "#Task 6\n",
        "\n",
        "list1=[1,2,3,4,5,6,7,8,9]\n",
        "list2 = [10,11,12,-13,-14,-15,-16]\n",
        "new_list1 = []\n",
        "for i in range(len(list1)) :\n",
        "    if list1[i] %2 == 0 :\n",
        "        new_list1.append(list1[i])\n",
        "    else :\n",
        "        pass\n",
        "\n",
        "for j in range(len(list2)) :\n",
        "    if list2[j] %2 == 0 :\n",
        "        new_list1.append(list2[j])\n",
        "    else :\n",
        "        pass\n",
        "\n",
        "print(new_list1)\n"
      ]
    },
    {
      "cell_type": "code",
      "execution_count": null,
      "metadata": {
        "id": "mi3wMjeJPWJs",
        "outputId": "44e454cd-0e89-4d8c-dbb6-c43154f158ed"
      },
      "outputs": [
        {
          "name": "stdout",
          "output_type": "stream",
          "text": [
            "['start', 10, 4, 2, 11, 9, 'mid', 3, 1, 0, 6, 8, 'Done']\n"
          ]
        }
      ],
      "source": [
        "# Task 7\n",
        "def nested_to_linear(lst):\n",
        "    result = []\n",
        "\n",
        "    for element in lst:\n",
        "        if type(element) == list:\n",
        "            result += nested_to_linear(element)\n",
        "        else:\n",
        "            result.append(element)\n",
        "\n",
        "    return result\n",
        "\n",
        "result = nested_to_linear([\"start\", 10, [4, 2, [11, [9, \"mid\", 3, [1, 0], 6]], 8], \"Done\"])\n",
        "print(result)\n",
        "\n"
      ]
    },
    {
      "cell_type": "code",
      "execution_count": null,
      "metadata": {
        "id": "7Ioqc6F6PWJt",
        "outputId": "cf4c3c5f-5a6f-44bb-fa51-293f2fe52f2c"
      },
      "outputs": [
        {
          "name": "stdout",
          "output_type": "stream",
          "text": [
            "['[arif,3.7]']\n",
            "['[arif,3.7]', '[syed,4.0]']\n",
            "['[arif,3.7]', '[syed,4.0]', '[rafin,3.3]']\n",
            "['[arif,3.7]', '[syed,4.0]', '[rafin,3.3]', '[safi,3.0]']\n",
            "['[arif,3.7]', '[syed,4.0]', '[rafin,3.3]', '[safi,3.0]', '[nuha,3.7]']\n"
          ]
        }
      ],
      "source": [
        "# Task 8\n",
        "\n",
        "a = int(input(\"Number of students : \"))\n",
        "grade_list=[]\n",
        "\n",
        "for i in range(a):\n",
        "    number=(input())\n",
        "    grade_list.append(number)\n",
        "    print(grade_list)\n",
        "\n",
        "\n"
      ]
    }
  ],
  "metadata": {
    "kernelspec": {
      "display_name": "Python 3",
      "language": "python",
      "name": "python3"
    },
    "language_info": {
      "codemirror_mode": {
        "name": "ipython",
        "version": 3
      },
      "file_extension": ".py",
      "mimetype": "text/x-python",
      "name": "python",
      "nbconvert_exporter": "python",
      "pygments_lexer": "ipython3",
      "version": "3.12.0"
    },
    "colab": {
      "provenance": []
    }
  },
  "nbformat": 4,
  "nbformat_minor": 0
}