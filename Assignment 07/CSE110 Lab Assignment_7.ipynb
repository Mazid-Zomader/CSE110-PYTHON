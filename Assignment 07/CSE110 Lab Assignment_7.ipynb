{
  "nbformat": 4,
  "nbformat_minor": 0,
  "metadata": {
    "colab": {
      "provenance": []
    },
    "kernelspec": {
      "name": "python3",
      "display_name": "Python 3"
    },
    "language_info": {
      "name": "python"
    }
  },
  "cells": [
    {
      "cell_type": "markdown",
      "source": [
        "Task 1"
      ],
      "metadata": {
        "id": "jhuRUtvyfnWy"
      }
    },
    {
      "cell_type": "code",
      "source": [
        "import numpy as np\n",
        "\n",
        "\n",
        "a = int(input())\n",
        "b = np.zeros ((a),dtype = int)\n",
        "for i in range(a) :\n",
        "  c = int(input())\n",
        "  b[i] = c\n",
        "\n",
        "m = np.zeros(a+1,dtype = int)\n",
        "for i in range (a) :\n",
        "  m[i] = b[i]\n",
        "\n",
        "c = int(input())\n",
        "m[a] = c\n",
        "print(f'original array : {b}')\n",
        "print(f'Resized array : {m}')"
      ],
      "metadata": {
        "colab": {
          "base_uri": "https://localhost:8080/"
        },
        "id": "IzPDKcRefouM",
        "outputId": "8420bfce-c29f-4ccb-d7e5-05e4317cd406"
      },
      "execution_count": null,
      "outputs": [
        {
          "output_type": "stream",
          "name": "stdout",
          "text": [
            "4\n",
            "7\n",
            "1\n",
            "3\n",
            "9\n",
            "5\n",
            "original array : [7 1 3 9]\n",
            "Resized array : [7 1 3 9 5]\n"
          ]
        }
      ]
    },
    {
      "cell_type": "markdown",
      "source": [
        "Task 2"
      ],
      "metadata": {
        "id": "Psb8dePKf71_"
      }
    },
    {
      "cell_type": "code",
      "source": [
        "import numpy as np\n",
        "\n",
        "n = int(input(\"Number of entries :\"))\n",
        "arr = np.zeros(n,dtype = int)\n",
        "for i in range (n) :\n",
        "  arr[i] = int(input('Elements : '))\n",
        "\n",
        "print(f'Original Array : {arr}')\n",
        "\n",
        "new = np.zeros(n,dtype=int)\n",
        "for j in range(n) :\n",
        "  if arr [j] <= 0 :\n",
        "    new[j] = 0\n",
        "  else :\n",
        "    new[j] = 1\n",
        "\n",
        "print(f'After modification : {new} ')"
      ],
      "metadata": {
        "colab": {
          "base_uri": "https://localhost:8080/"
        },
        "id": "fGSXvKtXf_IR",
        "outputId": "fa3062ee-6605-468f-eceb-aef984feeef8"
      },
      "execution_count": null,
      "outputs": [
        {
          "output_type": "stream",
          "name": "stdout",
          "text": [
            "Number of entries :4\n",
            "Elements : 3\n",
            "Elements : 4\n",
            "Elements : -2\n",
            "Elements : 1\n",
            "Original Array : [ 3  4 -2  1]\n",
            "After modification : [1 1 0 1] \n"
          ]
        }
      ]
    },
    {
      "cell_type": "markdown",
      "source": [
        "Task 3"
      ],
      "metadata": {
        "id": "PEo7jaB4lkrZ"
      }
    },
    {
      "cell_type": "code",
      "source": [
        "import numpy as np\n",
        "\n",
        "def reverseArray(arr) :\n",
        "  a =0\n",
        "  for i in range (len(arr)//2) :\n",
        "    a = arr[i]\n",
        "    arr[i] = arr[len(arr)-1-i]\n",
        "    arr[len(arr)-1-i] = a\n",
        "\n",
        "  return arr"
      ],
      "metadata": {
        "id": "CEgEIZFGloe4"
      },
      "execution_count": null,
      "outputs": []
    },
    {
      "cell_type": "code",
      "source": [
        "arr = np.array([10,12,20,5,7])\n",
        "arr = reverseArray(arr)\n",
        "print(arr)"
      ],
      "metadata": {
        "colab": {
          "base_uri": "https://localhost:8080/"
        },
        "id": "esHqbZCNmjlN",
        "outputId": "6c095df4-fd01-4e1e-d189-8a140a514ea1"
      },
      "execution_count": null,
      "outputs": [
        {
          "output_type": "stream",
          "name": "stdout",
          "text": [
            "[ 7  5 20 12 10]\n"
          ]
        }
      ]
    },
    {
      "cell_type": "markdown",
      "source": [
        "Task 4"
      ],
      "metadata": {
        "id": "qp8NdMUcoxrS"
      }
    },
    {
      "cell_type": "code",
      "source": [
        "import numpy as np\n",
        "\n",
        "def printPairs(arr,n) :\n",
        "  count = 0\n",
        "  for i in range (len(arr)) :\n",
        "    for j in range(i+1,len(arr)) :\n",
        "      if arr[i] + arr[j] == n :\n",
        "        print (f'{arr[i]} , {arr[j]} ')\n",
        "        count += 1\n",
        "      else :\n",
        "        pass\n",
        "\n",
        "  if count == 0 :\n",
        "    print ('No pair found')\n",
        "  else :\n",
        "    pass"
      ],
      "metadata": {
        "id": "Pg3VvYsqozn8"
      },
      "execution_count": null,
      "outputs": []
    },
    {
      "cell_type": "code",
      "source": [
        "arr1 = np.array([7,8,10,5,3,4,2])\n",
        "printPairs(arr1, 15)\n"
      ],
      "metadata": {
        "colab": {
          "base_uri": "https://localhost:8080/"
        },
        "id": "gcdOgcNQqWb7",
        "outputId": "e24438d9-056d-4870-f225-b866a36f73d2"
      },
      "execution_count": null,
      "outputs": [
        {
          "output_type": "stream",
          "name": "stdout",
          "text": [
            "7 , 8 \n",
            "10 , 5 \n"
          ]
        }
      ]
    },
    {
      "cell_type": "code",
      "source": [
        "arr2 = np.array([2,-3,1,9,4,5])\n",
        "printPairs(arr2, 6)\n"
      ],
      "metadata": {
        "colab": {
          "base_uri": "https://localhost:8080/"
        },
        "id": "0iDwI8Q0q_xr",
        "outputId": "59ea4cd6-2ef7-4822-8e8d-63446cd2c726"
      },
      "execution_count": null,
      "outputs": [
        {
          "output_type": "stream",
          "name": "stdout",
          "text": [
            "2 , 4 \n",
            "-3 , 9 \n",
            "1 , 5 \n"
          ]
        }
      ]
    },
    {
      "cell_type": "code",
      "source": [
        "arr3 = np.array([5, 9, 7, 6, 10])\n",
        "printPairs(arr3, 18)\n"
      ],
      "metadata": {
        "colab": {
          "base_uri": "https://localhost:8080/"
        },
        "id": "cmF0V-t-qf9T",
        "outputId": "525bd473-b3e6-4613-e9d1-15a32c19e2c7"
      },
      "execution_count": null,
      "outputs": [
        {
          "output_type": "stream",
          "name": "stdout",
          "text": [
            "No pair found\n"
          ]
        }
      ]
    },
    {
      "cell_type": "markdown",
      "source": [
        "Task 5"
      ],
      "metadata": {
        "id": "2z4TAO7trSt5"
      }
    },
    {
      "cell_type": "markdown",
      "source": [
        "Input 1"
      ],
      "metadata": {
        "id": "46qtrQ7W03dZ"
      }
    },
    {
      "cell_type": "code",
      "source": [
        "vec1 = np.array([1,2,3])\n",
        "vec2 = np.array([4,5,6])\n",
        "\n",
        "Dot_product = 0\n",
        "for i in range(len(vec1)) :\n",
        "  a = vec1[i]*vec2[i]\n",
        "  Dot_product += a\n",
        "\n",
        "print (f'Dot Product : {Dot_product}')\n",
        "\n",
        "\n",
        "if Dot_product % 2  == 0 :\n",
        "  for i in range (len(vec1)) :\n",
        "    temp = 0\n",
        "    if i % 2 == 0 :\n",
        "      temp = vec1[i]\n",
        "      vec1[i] = vec2[i]\n",
        "      vec2[i] = temp\n",
        "    else :\n",
        "      pass\n",
        "\n",
        "else :\n",
        "  for i in range(len(vec1)) :\n",
        "    temp = 0\n",
        "    if i % 2 != 0 :\n",
        "      temp = vec1[i]\n",
        "      vec1[i] = vec2[i]\n",
        "      vec1[i] = temp\n",
        "    else :\n",
        "      pass\n",
        "print('After Swapping : ')\n",
        "print (vec1)\n",
        "print (vec2)"
      ],
      "metadata": {
        "colab": {
          "base_uri": "https://localhost:8080/"
        },
        "id": "yfcMMRI5rVq0",
        "outputId": "2d01f3cf-54ab-4325-a9b5-d465c1664de5"
      },
      "execution_count": null,
      "outputs": [
        {
          "output_type": "stream",
          "name": "stdout",
          "text": [
            "Dot Product : 32\n",
            "After Swapping : \n",
            "[4 2 6]\n",
            "[1 5 3]\n"
          ]
        }
      ]
    },
    {
      "cell_type": "markdown",
      "source": [
        "Input 2"
      ],
      "metadata": {
        "id": "KIT8Q9c53zqa"
      }
    },
    {
      "cell_type": "code",
      "source": [
        "vec1 = np.array([1,2,3,7])\n",
        "vec2 = np.array([4,5,6,9])\n",
        "\n",
        "Dot_product = 0\n",
        "for i in range(len(vec1)) :\n",
        "  a = vec1[i]*vec2[i]\n",
        "  Dot_product += a\n",
        "\n",
        "print (f'Dot Product : {Dot_product}')\n",
        "\n",
        "\n",
        "if Dot_product % 2  == 0 :\n",
        "  for i in range (len(vec1)) :\n",
        "    temp = 0\n",
        "    if i % 2 == 0 :\n",
        "      temp = vec1[i]\n",
        "      vec1[i] = vec2[i]\n",
        "      vec2[i] = temp\n",
        "    else :\n",
        "      pass\n",
        "\n",
        "else :\n",
        "  for j in range(len(vec1)) :\n",
        "    temp = 0\n",
        "    if j % 2 != 0 :\n",
        "      temp = vec1[j]\n",
        "      vec1[j] = vec2[j]\n",
        "      vec2[j] = temp\n",
        "    else :\n",
        "      pass\n",
        "print('After Swapping : ')\n",
        "print (vec1)\n",
        "print (vec2)"
      ],
      "metadata": {
        "colab": {
          "base_uri": "https://localhost:8080/"
        },
        "id": "GvuFI6Q-061F",
        "outputId": "4cbd9973-41ff-4398-a37a-8caa77768d15"
      },
      "execution_count": null,
      "outputs": [
        {
          "output_type": "stream",
          "name": "stdout",
          "text": [
            "Dot Product : 95\n",
            "After Swapping : \n",
            "[1 5 3 9]\n",
            "[4 2 6 7]\n"
          ]
        }
      ]
    },
    {
      "cell_type": "markdown",
      "source": [
        "Task 6"
      ],
      "metadata": {
        "id": "V6I5d0ee31Qb"
      }
    },
    {
      "cell_type": "code",
      "source": [
        "import numpy as np\n",
        "\n",
        "n = int (input('Number of Elements  : '))\n",
        "arr = np.zeros(n,dtype=int)\n",
        "for i in range(n) :\n",
        "  arr[i] = int(input('Enter elements : '))\n",
        "\n",
        "print(f'Original array : {arr}')\n",
        "temp = 0\n",
        "for j in range (len(arr)) :\n",
        "  for m in range(j+1,len(arr)) :\n",
        "    if arr[j] < arr[m] :\n",
        "      pass\n",
        "    else :\n",
        "      temp = arr[j]\n",
        "      arr[j] = arr[m]\n",
        "      arr [m] = temp\n",
        "\n",
        "print(f'Sorted array : {arr}')"
      ],
      "metadata": {
        "colab": {
          "base_uri": "https://localhost:8080/"
        },
        "id": "n5Nex5Y-39lI",
        "outputId": "fb2e6e4a-f198-4083-da7e-086fd704c934"
      },
      "execution_count": null,
      "outputs": [
        {
          "output_type": "stream",
          "name": "stdout",
          "text": [
            "Number of Elements  : 4\n",
            "Enter elements : 5\n",
            "Enter elements : 2\n",
            "Enter elements : 3\n",
            "Enter elements : 1\n",
            "Original array : [5 2 3 1]\n",
            "Sorted array : [1 2 3 5]\n"
          ]
        }
      ]
    },
    {
      "cell_type": "markdown",
      "source": [
        "Task 7"
      ],
      "metadata": {
        "id": "A8t1qA9668kv"
      }
    },
    {
      "cell_type": "code",
      "source": [
        "def flatten(arr) :\n",
        "  a = arr.size\n",
        "  array = np.zeros(a,dtype=int)\n",
        "  counter = 0\n",
        "  for i in range(len(arr)) :\n",
        "    for j in range (len(arr[i])) :\n",
        "      array[counter] = arr[i][j]\n",
        "      counter += 1\n",
        "\n",
        "  return array"
      ],
      "metadata": {
        "id": "XyYg_0py9P1K"
      },
      "execution_count": null,
      "outputs": []
    },
    {
      "cell_type": "code",
      "source": [
        "arr3 = np.array( [ [1, 4],\n",
        "                   [5, 6],\n",
        "                   [8, 9] ] )\n",
        "arr4 = flatten(arr3)\n",
        "print(arr4)\n"
      ],
      "metadata": {
        "colab": {
          "base_uri": "https://localhost:8080/"
        },
        "id": "DWQNGsw1-ebn",
        "outputId": "066482c8-d2b6-4135-a59a-589346beece5"
      },
      "execution_count": null,
      "outputs": [
        {
          "output_type": "stream",
          "name": "stdout",
          "text": [
            "[1 4 5 6 8 9]\n"
          ]
        }
      ]
    },
    {
      "cell_type": "markdown",
      "source": [
        "Task 8"
      ],
      "metadata": {
        "id": "9HLDQSCFBOO7"
      }
    },
    {
      "cell_type": "code",
      "source": [
        "def identity(a) :\n",
        "  s = a.shape[0]\n",
        "  flag = True\n",
        "  for i in range(s) :\n",
        "    for j in range (s) :\n",
        "      if a[i][i]!=1 :\n",
        "        flag= False\n",
        "        break\n",
        "      if i!=j :\n",
        "        if a[i][j] !=0 :\n",
        "          flag = False\n",
        "          break\n",
        "  if flag == True :\n",
        "    print(\"Identity Matrix\")\n",
        "  else :\n",
        "    print(\"Not an Identity Matrix\")"
      ],
      "metadata": {
        "id": "XfpTTAwVBR6E"
      },
      "execution_count": null,
      "outputs": []
    },
    {
      "cell_type": "code",
      "source": [
        "a = np.array([ [1, 0, 0],\n",
        "               [0, 1, 0],\n",
        "               [0, 0, 1] ])\n",
        "identity(a)"
      ],
      "metadata": {
        "colab": {
          "base_uri": "https://localhost:8080/"
        },
        "id": "-3h_zMF3BTW2",
        "outputId": "80ec29dc-1d06-492b-c09d-98045b6cbd08"
      },
      "execution_count": null,
      "outputs": [
        {
          "output_type": "stream",
          "name": "stdout",
          "text": [
            "Identity Matrix\n"
          ]
        }
      ]
    },
    {
      "cell_type": "markdown",
      "source": [
        "Task 9"
      ],
      "metadata": {
        "id": "E15pb_U7BWMq"
      }
    },
    {
      "cell_type": "code",
      "source": [
        "def diff(a) :\n",
        "  prime=0\n",
        "  second=0\n",
        "  for i in range (a.shape[0]) :\n",
        "    prime+=a[i][i]\n",
        "    second+=a[i][a.shape[0]-1-i]\n",
        "  diff = prime-second\n",
        "  diff = abs(diff)\n",
        "  print(diff)"
      ],
      "metadata": {
        "id": "oONvfILUBWvC"
      },
      "execution_count": null,
      "outputs": []
    },
    {
      "cell_type": "code",
      "source": [
        "a = np.array([ [1,  5,  12,  1],\n",
        "               [2,  -4,  6,  7],\n",
        "               [3,  8,  5,  9],\n",
        "               [3,  5,  23,  -6] ])\n",
        "diff(a)"
      ],
      "metadata": {
        "colab": {
          "base_uri": "https://localhost:8080/"
        },
        "id": "hfedKn_nBY6x",
        "outputId": "3753a844-ba99-4999-d745-c8b706439514"
      },
      "execution_count": null,
      "outputs": [
        {
          "output_type": "stream",
          "name": "stdout",
          "text": [
            "22\n"
          ]
        }
      ]
    },
    {
      "cell_type": "markdown",
      "source": [
        "Task 10.1"
      ],
      "metadata": {
        "id": "apm3fAzNBcBI"
      }
    },
    {
      "cell_type": "code",
      "source": [
        "import numpy as np\n",
        "A = np.array([[1, 2, 3],\n",
        "              [4, 5, 6],\n",
        "              [7, 8, 9]])\n",
        "A_T=np.zeros(shape=(A.shape[1],A.shape[0]),dtype=int)\n",
        "for r in range(A_T.shape[0]):\n",
        "  for c in range(A_T.shape[1]):\n",
        "    A_T[r][c]=A[c][r]\n",
        "print(A_T)"
      ],
      "metadata": {
        "colab": {
          "base_uri": "https://localhost:8080/"
        },
        "id": "h-rZHZ24BdhQ",
        "outputId": "d8509d42-820a-42c9-9860-dc87095565ce"
      },
      "execution_count": null,
      "outputs": [
        {
          "output_type": "stream",
          "name": "stdout",
          "text": [
            "[[1 4 7]\n",
            " [2 5 8]\n",
            " [3 6 9]]\n"
          ]
        }
      ]
    },
    {
      "cell_type": "markdown",
      "source": [
        "Task 10.2"
      ],
      "metadata": {
        "id": "dhnYYDszBhv8"
      }
    },
    {
      "cell_type": "code",
      "source": [
        "import numpy as np\n",
        "A = np.array([[1, 2, 3],\n",
        "              [4, 5, 6],\n",
        "              [7, 8, 9]])\n",
        "A_T=np.zeros(shape=(A.shape[1],A.shape[0]),dtype=int)\n",
        "for r in range(A_T.shape[0]):\n",
        "  for c in range(A_T.shape[1]):\n",
        "    A_T[r][c]=A[c][r]\n",
        "\n",
        "A_G=np.zeros(shape=(A_T.shape[0],A.shape[1]),dtype=int)\n",
        "for r in range(A_G.shape[0]):\n",
        "  for c in range(A_G.shape[1]):\n",
        "    sum=0\n",
        "    for i in range(A_T.shape[1]):\n",
        "      sum+=A_T[r][i]*A[i][c]\n",
        "    A_G[r][c]=sum\n",
        "print(A_G)"
      ],
      "metadata": {
        "colab": {
          "base_uri": "https://localhost:8080/"
        },
        "id": "UNE56QwcBi00",
        "outputId": "abfbb7ab-e6f1-4180-823f-bd3251f1d5ed"
      },
      "execution_count": null,
      "outputs": [
        {
          "output_type": "stream",
          "name": "stdout",
          "text": [
            "[[ 66  78  90]\n",
            " [ 78  93 108]\n",
            " [ 90 108 126]]\n"
          ]
        }
      ]
    },
    {
      "cell_type": "markdown",
      "source": [
        "Task 11"
      ],
      "metadata": {
        "id": "UV7Zd8WNBl1C"
      }
    },
    {
      "cell_type": "code",
      "source": [
        "A = np.array([[4,1,2],\n",
        "              [9,3,7]])\n",
        "M,N = A.shape[0],A.shape[1]\n",
        "diff = abs(M-N)\n",
        "m= diff % M\n",
        "sum = 0\n",
        "for i in range(N):\n",
        "  sum+=A[m][i]\n",
        "avg=sum/N\n",
        "avg=round(avg,2)\n",
        "B=np.zeros(shape=(M,N),dtype=float)\n",
        "for r in range(M):\n",
        "  for c in range(N):\n",
        "    B[r][c]=A[r][c]*avg\n",
        "print(B)"
      ],
      "metadata": {
        "colab": {
          "base_uri": "https://localhost:8080/"
        },
        "id": "HiSRFlAOBon4",
        "outputId": "b4ca4a4d-2723-4af3-f753-81207b3ed277"
      },
      "execution_count": null,
      "outputs": [
        {
          "output_type": "stream",
          "name": "stdout",
          "text": [
            "[[25.32  6.33 12.66]\n",
            " [56.97 18.99 44.31]]\n"
          ]
        }
      ]
    }
  ]
}