{
  "nbformat": 4,
  "nbformat_minor": 0,
  "metadata": {
    "colab": {
      "provenance": []
    },
    "kernelspec": {
      "name": "python3",
      "display_name": "Python 3"
    },
    "language_info": {
      "name": "python"
    }
  },
  "cells": [
    {
      "cell_type": "code",
      "execution_count": 1,
      "metadata": {
        "id": "QV2zfY4sREjd",
        "colab": {
          "base_uri": "https://localhost:8080/"
        },
        "outputId": "07e1ac8a-2b3e-4c06-fc2e-97095fe3fd79"
      },
      "outputs": [
        {
          "output_type": "stream",
          "name": "stdout",
          "text": [
            "CSE110\n",
            "011ESC\n"
          ]
        }
      ],
      "source": [
        "# Class Task 1.1\n",
        "a = input()\n",
        "reverse = ''\n",
        "for index in range(len(a)-1, -1, -1) :\n",
        "  reverse += a[index]\n",
        "print(reverse)"
      ]
    },
    {
      "cell_type": "code",
      "source": [
        "# Class Task 1.2\n",
        "a = input()\n",
        "b = int(input())\n",
        "reverse = ''\n",
        "for index in range(b,-1,-1) :\n",
        "  reverse += a[index]\n",
        "reverse += a[b+1:len(a)]\n",
        "print(reverse)"
      ],
      "metadata": {
        "colab": {
          "base_uri": "https://localhost:8080/"
        },
        "id": "B3Lsw9LaRhiV",
        "outputId": "dcedfbef-38dd-4a67-de6d-591e20a9741c"
      },
      "execution_count": 7,
      "outputs": [
        {
          "output_type": "stream",
          "name": "stdout",
          "text": [
            "aBcd1234defg\n",
            "5\n",
            "21dcBa34defg\n"
          ]
        }
      ]
    },
    {
      "cell_type": "code",
      "source": [
        "# Class Task 2.1\n",
        "a = input()\n",
        "for index in range(len(a)) :\n",
        "  print(f\"{a[index]}: {ord(a[index])}\")"
      ],
      "metadata": {
        "colab": {
          "base_uri": "https://localhost:8080/"
        },
        "id": "4o7qVqqLSm60",
        "outputId": "bf4c4888-1570-421b-f5ae-4c7ecf21f1ff"
      },
      "execution_count": 8,
      "outputs": [
        {
          "output_type": "stream",
          "name": "stdout",
          "text": [
            "quincuncial\n",
            "q: 113\n",
            "u: 117\n",
            "i: 105\n",
            "n: 110\n",
            "c: 99\n",
            "u: 117\n",
            "n: 110\n",
            "c: 99\n",
            "i: 105\n",
            "a: 97\n",
            "l: 108\n"
          ]
        }
      ]
    },
    {
      "cell_type": "code",
      "source": [
        "# Class Task 2.2\n",
        "a = input()\n",
        "output = \"\"\n",
        "for index in range(len(a)) :\n",
        "  if index%2 == 0 :\n",
        "    pass\n",
        "  else :\n",
        "    output += chr(ord(a[index])-32)\n",
        "print(output)"
      ],
      "metadata": {
        "colab": {
          "base_uri": "https://localhost:8080/"
        },
        "id": "QAsGvicES1Zz",
        "outputId": "6ca5c0ab-cb03-4e41-930a-36a25d14a22d"
      },
      "execution_count": 14,
      "outputs": [
        {
          "output_type": "stream",
          "name": "stdout",
          "text": [
            "String\n",
            "TIG\n"
          ]
        }
      ]
    },
    {
      "cell_type": "code",
      "source": [
        "# Class Task 3\n",
        "a = input()\n",
        "b = input()\n",
        "output = \"\"\n",
        "for index in range(len(a)) :\n",
        "  if a[index] == b :\n",
        "    print(output)\n",
        "    output = \"\"\n",
        "  else :\n",
        "    output += a[index]\n",
        "print(output)"
      ],
      "metadata": {
        "colab": {
          "base_uri": "https://localhost:8080/"
        },
        "id": "527D-MCxUW8_",
        "outputId": "5ed6db18-bbe2-4c45-d407-b6ae3b463bc5"
      },
      "execution_count": 16,
      "outputs": [
        {
          "output_type": "stream",
          "name": "stdout",
          "text": [
            "This-is-CSE110\n",
            "-\n",
            "This\n",
            "is\n",
            "CSE110\n"
          ]
        }
      ]
    },
    {
      "cell_type": "code",
      "source": [
        "# Class Evaluation Task 01\n",
        "a = input()\n",
        "binary = True\n",
        "for index in range(len(a)) :\n",
        "  if a[index] == '0' or a[index] == '1' :\n",
        "    pass\n",
        "  else :\n",
        "    binary = False\n",
        "    break\n",
        "if binary :\n",
        "  print(\"Binary Number\")\n",
        "else :\n",
        "  print(\"Not a Binary Number\")"
      ],
      "metadata": {
        "colab": {
          "base_uri": "https://localhost:8080/"
        },
        "id": "BfgVy0HZXUJF",
        "outputId": "525ffe68-18ca-4163-8d26-88eeb57bdae4"
      },
      "execution_count": 19,
      "outputs": [
        {
          "output_type": "stream",
          "name": "stdout",
          "text": [
            "ary NumberBin\n",
            "Not a Binary Number\n"
          ]
        }
      ]
    },
    {
      "cell_type": "code",
      "source": [
        "# Class Evaluation Task 02\n",
        "a = input()\n",
        "vowel = ['a', 'e', 'i', 'o', 'u']\n",
        "vowel_count, consonent_count = 0,0\n",
        "for index in range(len(a)) :\n",
        "  if 65<=ord(a[index])<=90 or 97<= ord(a[index])<=122 :\n",
        "    if a[index] in vowel :\n",
        "      vowel_count += 1\n",
        "    else :\n",
        "      consonent_count +=1\n",
        "if vowel_count %3 == 0  and consonent_count %5 == 0 :\n",
        "  print(\"Aaarr! Me Plunder!!\")\n",
        "else :\n",
        "  print(\"Blimey! No Plunder!!\")"
      ],
      "metadata": {
        "colab": {
          "base_uri": "https://localhost:8080/"
        },
        "id": "a-C0Dk90YDn7",
        "outputId": "a2946015-6a91-4f77-e925-089a4d1cfcd4"
      },
      "execution_count": 23,
      "outputs": [
        {
          "output_type": "stream",
          "name": "stdout",
          "text": [
            "aoouii-uii\n",
            "Aaarr! Me Plunder!!\n"
          ]
        }
      ]
    },
    {
      "cell_type": "code",
      "source": [
        "#Home Task 1\n",
        "\n",
        "a = input()\n",
        "b = \"\"\n",
        "\n",
        "for i in range(0, len(a), 1):\n",
        "    if i == 0 or a[i] != a[i - 1]:\n",
        "        b += a[i]\n",
        "\n",
        "print(b)"
      ],
      "metadata": {
        "colab": {
          "base_uri": "https://localhost:8080/"
        },
        "id": "2HDQMydcZ7do",
        "outputId": "54aa15fc-058a-4cf5-c890-8df04e59ffc1"
      },
      "execution_count": 24,
      "outputs": [
        {
          "output_type": "stream",
          "name": "stdout",
          "text": [
            "AAABBBBCDDBBECE\n",
            "ABCDBECE\n"
          ]
        }
      ]
    },
    {
      "cell_type": "code",
      "source": [
        "#Home Task 2\n",
        "given = input()\n",
        "new = \"\"\n",
        "\n",
        "for i in range(len(given)):\n",
        "  if given[i] == \",\":\n",
        "    first = given[:i]\n",
        "    second = given[i + 2:]\n",
        "    break\n",
        "\n",
        "i = 0\n",
        "j = 0\n",
        "while i < len(first) or j < len(second):\n",
        "  if i < len(first):\n",
        "    new += first[i]\n",
        "    i += 1\n",
        "  if j < len(second):\n",
        "    new += second[j]\n",
        "    j += 1\n",
        "\n",
        "print(new)"
      ],
      "metadata": {
        "colab": {
          "base_uri": "https://localhost:8080/"
        },
        "id": "9V3b4vgRaAL3",
        "outputId": "1c049f57-fbbe-4bfe-9760-d19349b559d0"
      },
      "execution_count": 25,
      "outputs": [
        {
          "output_type": "stream",
          "name": "stdout",
          "text": [
            "ABCD, efgh\n",
            "AeBfCgDh\n"
          ]
        }
      ]
    },
    {
      "cell_type": "code",
      "source": [
        "#Home Task 3\n",
        "x = input()\n",
        "y = len(x)\n",
        "for i in range (0 , y , 1):\n",
        "   a = ord(x[i])+1\n",
        "   a = chr(a)\n",
        "   print (a , end =\"\")"
      ],
      "metadata": {
        "colab": {
          "base_uri": "https://localhost:8080/"
        },
        "id": "8aaVctHEaIhZ",
        "outputId": "4b0546a6-0443-4031-c890-f2eed7f06d0a"
      },
      "execution_count": 26,
      "outputs": [
        {
          "output_type": "stream",
          "name": "stdout",
          "text": [
            "the cow\n",
            "uif!dpx"
          ]
        }
      ]
    },
    {
      "cell_type": "code",
      "source": [
        "#Home Task 4\n",
        "\n",
        "given_string = input()\n",
        "new_string = \"\"\n",
        "\n",
        "is_capital = False\n",
        "\n",
        "for i in range(len(given_string)):\n",
        "  if (65 <= ord(given_string[i]) <= 90) or (97 <= ord(given_string[i]) <= 122):\n",
        "    if is_capital:\n",
        "      if 65 <= ord(given_string[i]) <= 90:\n",
        "        new_string += chr(ord(given_string[i]) + 32)\n",
        "      else:\n",
        "        new_string += given_string[i]\n",
        "      is_capital = False\n",
        "    else:\n",
        "      if 97 <= ord(given_string[i]) <= 122:\n",
        "        new_string += chr(ord(given_string[i]) - 32)\n",
        "      else:\n",
        "        new_string += given_string[i]\n",
        "      is_capital = True\n",
        "  else:\n",
        "    new_string += given_string[i]\n",
        "\n",
        "print(new_string)"
      ],
      "metadata": {
        "colab": {
          "base_uri": "https://localhost:8080/"
        },
        "id": "rlse2p76aNMJ",
        "outputId": "62ad7e17-49b5-4204-eab4-fce3aeffb56e"
      },
      "execution_count": 27,
      "outputs": [
        {
          "output_type": "stream",
          "name": "stdout",
          "text": [
            "Python programming is very easy\n",
            "PyThOn PrOgRaMmInG iS vErY eAsY\n"
          ]
        }
      ]
    }
  ]
}