{
  "nbformat": 4,
  "nbformat_minor": 0,
  "metadata": {
    "colab": {
      "provenance": []
    },
    "kernelspec": {
      "name": "python3",
      "display_name": "Python 3"
    },
    "language_info": {
      "name": "python"
    }
  },
  "cells": [
    {
      "cell_type": "code",
      "execution_count": 3,
      "metadata": {
        "id": "tCSjIbW2ABp9",
        "colab": {
          "base_uri": "https://localhost:8080/"
        },
        "outputId": "a9c8f28c-2df9-484a-ebf2-67f3a5620c47"
      },
      "outputs": [
        {
          "output_type": "stream",
          "name": "stdout",
          "text": [
            "24, 18, 12, 6, 0, -6\n",
            "18, 27, 36, 45, 54, 63\n"
          ]
        }
      ],
      "source": [
        "# Class Task 01\n",
        "# (a)\n",
        "for index in range(24, -7,-6):\n",
        "  if index == -6 :\n",
        "    print(index)\n",
        "  else :\n",
        "    print(index, end = \", \")\n",
        "# (b)\n",
        "for index in range(18, 64,9):\n",
        "  if index == 63 :\n",
        "    print(index)\n",
        "  else :\n",
        "    print(index, end = \", \")"
      ]
    },
    {
      "cell_type": "code",
      "source": [
        "# Class Task 02\n",
        "a = int(input())\n",
        "sum = 0\n",
        "for index in range(a+1):\n",
        "  if index%2 == 0:\n",
        "    sum -= index**2\n",
        "  else :\n",
        "    sum += index**2\n",
        "print(sum)"
      ],
      "metadata": {
        "colab": {
          "base_uri": "https://localhost:8080/"
        },
        "id": "m3aZCveoAyKn",
        "outputId": "af939adf-1fae-4850-d28b-984c0a853585"
      },
      "execution_count": 9,
      "outputs": [
        {
          "output_type": "stream",
          "name": "stdout",
          "text": [
            "20\n",
            "-210\n"
          ]
        }
      ]
    },
    {
      "cell_type": "code",
      "source": [
        "# Class Task 03\n",
        "a = int(input())\n",
        "while a> 0 :\n",
        "  if a//10 == 0 :\n",
        "    print(a%10)\n",
        "  else :\n",
        "    print(a%10, end = \", \")\n",
        "  a //= 10\n"
      ],
      "metadata": {
        "colab": {
          "base_uri": "https://localhost:8080/"
        },
        "id": "VmyQAquDCVYh",
        "outputId": "34a70802-2e51-41a8-c514-c3f56baf6a06"
      },
      "execution_count": 11,
      "outputs": [
        {
          "output_type": "stream",
          "name": "stdout",
          "text": [
            "32678\n",
            "8, 7, 6, 2, 3\n"
          ]
        }
      ]
    },
    {
      "cell_type": "code",
      "source": [
        "# Class Task 04\n",
        "a = int(input())\n",
        "count = 0\n",
        "for index in range(1, a+1) :\n",
        "  if a%index == 0 :\n",
        "    print(index)\n",
        "    count += 1\n",
        "print(\"Total\",count,\"divisors\")"
      ],
      "metadata": {
        "colab": {
          "base_uri": "https://localhost:8080/"
        },
        "id": "UpzHusfDC4gF",
        "outputId": "0e13b96f-8788-4f98-815f-47b7fe63343c"
      },
      "execution_count": 13,
      "outputs": [
        {
          "output_type": "stream",
          "name": "stdout",
          "text": [
            "121\n",
            "1\n",
            "11\n",
            "121\n",
            "Total 3 divisors\n"
          ]
        }
      ]
    },
    {
      "cell_type": "code",
      "source": [
        "# Class Task 5\n",
        "a = int(input())\n",
        "b = int(input())\n",
        "for index in range(a):\n",
        "  for index1 in range(1, b+1):\n",
        "    print(index1, end = \"\")\n",
        "  print()"
      ],
      "metadata": {
        "colab": {
          "base_uri": "https://localhost:8080/"
        },
        "id": "PBY-ZkfDD0CU",
        "outputId": "c01309df-10f3-4fb1-8172-cf2a184acd9a"
      },
      "execution_count": 15,
      "outputs": [
        {
          "output_type": "stream",
          "name": "stdout",
          "text": [
            "3\n",
            "2\n",
            "12\n",
            "12\n",
            "12\n"
          ]
        }
      ]
    },
    {
      "cell_type": "code",
      "source": [
        "# Class Evaluation Task 1\n",
        "count = 1\n",
        "for index in range(18, 64,9):\n",
        "  if count % 2 == 0 :\n",
        "    if index == 63 :\n",
        "      print(f\"-{index}\")\n",
        "    else :\n",
        "      print(f\"-{index}\", end = \", \")\n",
        "  else :\n",
        "    if index == 63 :\n",
        "      print(index)\n",
        "    else :\n",
        "      print(index, end = \", \")\n",
        "  count += 1"
      ],
      "metadata": {
        "colab": {
          "base_uri": "https://localhost:8080/"
        },
        "id": "nv7AknFqEYf0",
        "outputId": "5febbb3b-5511-47ed-dd5b-a0ee654fa4ab"
      },
      "execution_count": 17,
      "outputs": [
        {
          "output_type": "stream",
          "name": "stdout",
          "text": [
            "18, -27, 36, -45, 54, -63\n"
          ]
        }
      ]
    },
    {
      "cell_type": "code",
      "source": [
        "# Class Evaluation Task 2\n",
        "product = 1\n",
        "for index in range(5):\n",
        "  product *= int(input())\n",
        "  print(product)\n",
        "  # if index == 0 :\n",
        "  #   print(product)\n",
        "  # else"
      ],
      "metadata": {
        "colab": {
          "base_uri": "https://localhost:8080/"
        },
        "id": "qInaY6wPEzjN",
        "outputId": "446e63a2-4350-401e-99a0-f303fb9eb957"
      },
      "execution_count": 18,
      "outputs": [
        {
          "output_type": "stream",
          "name": "stdout",
          "text": [
            "-10\n",
            "-10\n",
            "-2\n",
            "20\n",
            "3\n",
            "60\n",
            "2\n",
            "120\n",
            "-1\n",
            "-120\n"
          ]
        }
      ]
    },
    {
      "cell_type": "code",
      "source": [
        "# Intermediate Code to match the sample input and output of previous task\n",
        "a = []\n",
        "for index in range(5):\n",
        "  a.append(int(input()))\n",
        "product = 1;\n",
        "for index in range(len(a)):\n",
        "  product *= a[index]\n",
        "  print(product)"
      ],
      "metadata": {
        "colab": {
          "base_uri": "https://localhost:8080/"
        },
        "id": "iyWYg7e1FYT9",
        "outputId": "775c0c33-8887-4610-a5b8-6bbe310f155f"
      },
      "execution_count": 19,
      "outputs": [
        {
          "output_type": "stream",
          "name": "stdout",
          "text": [
            "-10\n",
            "-2\n",
            "3\n",
            "2\n",
            "-1\n",
            "-10\n",
            "20\n",
            "60\n",
            "120\n",
            "-120\n"
          ]
        }
      ]
    },
    {
      "cell_type": "code",
      "source": [
        "# Home Task 01\n",
        "a = int(input())\n",
        "counter, sum = 0, 0\n",
        "while (counter < a):\n",
        "  if counter%7 == 0 and counter%9 == 0:\n",
        "    pass\n",
        "  elif counter % 7 == 0 or counter % 9 == 0 :\n",
        "    sum += counter\n",
        "  counter += 1\n",
        "\n",
        "\n",
        "print(sum)"
      ],
      "metadata": {
        "colab": {
          "base_uri": "https://localhost:8080/"
        },
        "id": "_toLq-tQFwaF",
        "outputId": "aab79646-2213-47de-a712-87784ca9049a"
      },
      "execution_count": 27,
      "outputs": [
        {
          "output_type": "stream",
          "name": "stdout",
          "text": [
            "75\n",
            "583\n"
          ]
        }
      ]
    },
    {
      "cell_type": "code",
      "source": [
        "# Home Task 02\n",
        "a = int(input())\n",
        "a1 = a\n",
        "count = 0\n",
        "while a1>0 :\n",
        "  count += 1\n",
        "  a1 //= 10\n",
        "power = 10 ** (count - 1)\n",
        "while a>0 :\n",
        "  if (power//10 == 0) :\n",
        "    print(a//power)\n",
        "  else :\n",
        "    print(a//power, end = \", \")\n",
        "  a %= power\n",
        "  power //= 10"
      ],
      "metadata": {
        "colab": {
          "base_uri": "https://localhost:8080/"
        },
        "id": "OKiFk9YdKDdy",
        "outputId": "2216b567-1d0d-4381-e035-ee4dee9caf1d"
      },
      "execution_count": 29,
      "outputs": [
        {
          "output_type": "stream",
          "name": "stdout",
          "text": [
            "32678\n",
            "3, 2, 6, 7, 8\n"
          ]
        }
      ]
    },
    {
      "cell_type": "code",
      "source": [
        "# Home Task 03\n",
        "a = int(input())\n",
        "prime = True\n",
        "for index in range(2, a):\n",
        "  if a%index == 0 :\n",
        "    prime = False\n",
        "    break\n",
        "if prime :\n",
        "  print(a, \"is a prime number\")\n",
        "else :\n",
        "  sum = 0\n",
        "  perfect = False\n",
        "  for index in range(1, a) :\n",
        "    if a%index == 0:\n",
        "      sum += index\n",
        "  if sum == a :\n",
        "    perfect = True\n",
        "    print(a,\" is a perfect number\")\n",
        "if prime == False and perfect == False :\n",
        "  print(a, \"is not a prime or perfect number\")"
      ],
      "metadata": {
        "colab": {
          "base_uri": "https://localhost:8080/"
        },
        "id": "v1xiRs4kLV3Z",
        "outputId": "ba7f93f2-a706-487e-8ccb-90d5388abe4c"
      },
      "execution_count": 32,
      "outputs": [
        {
          "output_type": "stream",
          "name": "stdout",
          "text": [
            "33\n",
            "33 is not a prime or perfect number\n"
          ]
        }
      ]
    },
    {
      "cell_type": "code",
      "source": [
        "# Home Task 04\n",
        "inp = int(input())\n",
        "min = float(\"inf\")\n",
        "max = float(\"-inf\")\n",
        "sum = 0\n",
        "for index in range(inp) :\n",
        "  a = int(input())\n",
        "  sum += a\n",
        "  if a > max :\n",
        "    max = a\n",
        "  elif a < min :\n",
        "    min = a\n",
        "print(\"Maximum:\",max)\n",
        "print(\"Minimum:\",min)\n",
        "print(\"Average:\", sum/inp)"
      ],
      "metadata": {
        "colab": {
          "base_uri": "https://localhost:8080/"
        },
        "id": "dOPZ1EqbNtho",
        "outputId": "371683aa-12fc-430a-e09c-bdd2b06d83f0"
      },
      "execution_count": 34,
      "outputs": [
        {
          "output_type": "stream",
          "name": "stdout",
          "text": [
            "5\n",
            "10\n",
            "4\n",
            "-1\n",
            "-100\n",
            "1\n",
            "Maximum: 10\n",
            "Minimum: -100\n",
            "Average: -17.2\n"
          ]
        }
      ]
    },
    {
      "cell_type": "code",
      "source": [
        "# Home Task 05\n",
        "a = int(input())\n",
        "for index in range(1, a+1):\n",
        "  for index1 in range(1, index+1) :\n",
        "    print(index1, end = \"\")\n",
        "  print()"
      ],
      "metadata": {
        "colab": {
          "base_uri": "https://localhost:8080/"
        },
        "id": "JIhKOZTFO3tX",
        "outputId": "196b9e2b-d4a4-4914-8f6e-bf96ace90f92"
      },
      "execution_count": 37,
      "outputs": [
        {
          "output_type": "stream",
          "name": "stdout",
          "text": [
            "5\n",
            "1\n",
            "12\n",
            "123\n",
            "1234\n",
            "12345\n"
          ]
        }
      ]
    }
  ]
}