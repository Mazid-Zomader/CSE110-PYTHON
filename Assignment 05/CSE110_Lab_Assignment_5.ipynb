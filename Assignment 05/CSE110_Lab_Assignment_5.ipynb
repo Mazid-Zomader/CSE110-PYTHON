{
  "nbformat": 4,
  "nbformat_minor": 0,
  "metadata": {
    "colab": {
      "provenance": []
    },
    "kernelspec": {
      "name": "python3",
      "display_name": "Python 3"
    },
    "language_info": {
      "name": "python"
    }
  },
  "cells": [
    {
      "cell_type": "code",
      "execution_count": 1,
      "metadata": {
        "id": "rpfbyiTnazoM",
        "colab": {
          "base_uri": "https://localhost:8080/"
        },
        "outputId": "098aa45e-6d21-4631-ca11-782f1ee74d27"
      },
      "outputs": [
        {
          "output_type": "stream",
          "name": "stdout",
          "text": [
            "Ëven!!\n",
            "Ödd!!\n"
          ]
        }
      ],
      "source": [
        "# Class Task 1.1\n",
        "def even_checker(a) :\n",
        "  if a%2 == 0 :\n",
        "    print(\"Ëven!!\")\n",
        "  else :\n",
        "    print(\"Ödd!!\")\n",
        "even_checker(10)\n",
        "even_checker(17)"
      ]
    },
    {
      "cell_type": "code",
      "source": [
        "# Class Task 1.2\n",
        "def is_even(a) :\n",
        "  if a%2 == 0 :\n",
        "    return True\n",
        "  return False\n",
        "result = is_even(10)\n",
        "print( result )\n",
        "result = is_even(17)\n",
        "print( result )"
      ],
      "metadata": {
        "colab": {
          "base_uri": "https://localhost:8080/"
        },
        "id": "G-WMpbxqyrv0",
        "outputId": "8635f65e-d1e8-4124-d4a8-9f149cfdce82"
      },
      "execution_count": 2,
      "outputs": [
        {
          "output_type": "stream",
          "name": "stdout",
          "text": [
            "True\n",
            "False\n"
          ]
        }
      ]
    },
    {
      "cell_type": "code",
      "source": [
        "# Class Task 1.3\n",
        "def is_pos(a) :\n",
        "  if a< 0 :\n",
        "    return False\n",
        "  return True\n",
        "result = is_pos(-5)\n",
        "print( result )\n",
        "result = is_pos(12)\n",
        "print( result )"
      ],
      "metadata": {
        "colab": {
          "base_uri": "https://localhost:8080/"
        },
        "id": "Bl5QmzVUzWfz",
        "outputId": "c7afa58a-16f1-44db-e0b2-8f13c848559f"
      },
      "execution_count": 3,
      "outputs": [
        {
          "output_type": "stream",
          "name": "stdout",
          "text": [
            "False\n",
            "True\n"
          ]
        }
      ]
    },
    {
      "cell_type": "code",
      "source": [
        "# Class Task 1.4\n",
        "def sequence(a) :\n",
        "  if is_even(a) :\n",
        "    if is_pos(a) :\n",
        "      for index in range (a+1) :\n",
        "        if index%2 == 0 :\n",
        "          print(index, end = ' ')\n",
        "    else :\n",
        "      for index in range(a, 0, 1) :\n",
        "        if index%2 != 0 :\n",
        "          print(index, end = \" \")\n",
        "  else :\n",
        "    if is_pos(a) :\n",
        "      for index in range (a) :\n",
        "        if index%2 == 0 :\n",
        "          print(index, end = ' ')\n",
        "    else :\n",
        "      for index in range(a, 0, 1) :\n",
        "        if index%2 != 0 :\n",
        "          print(index, end = \" \")\n",
        "  print()\n",
        "\n",
        "\n",
        "sequence(10)\n",
        "sequence(-7)\n",
        "sequence(7)\n",
        "sequence(-8)\n",
        "\n",
        "\n",
        "\n",
        "\n"
      ],
      "metadata": {
        "colab": {
          "base_uri": "https://localhost:8080/"
        },
        "id": "27IQPx2ezlsT",
        "outputId": "2f43683b-f7e9-4e12-89b8-f8d32395a9df"
      },
      "execution_count": 14,
      "outputs": [
        {
          "output_type": "stream",
          "name": "stdout",
          "text": [
            "0 2 4 6 8 10 \n",
            "-7 -5 -3 -1 \n",
            "0 2 4 6 \n",
            "-7 -5 -3 -1 \n"
          ]
        }
      ]
    },
    {
      "cell_type": "code",
      "source": [
        "# Class Task 2.1\n",
        "def is_valid_triangle(a, b, c) :\n",
        "  if a+b>c and b+c >a  and c+a > b :\n",
        "    return True\n",
        "  else :\n",
        "    return False\n",
        "result=is_valid_triangle(7,5,10)\n",
        "print( result )\n",
        "result=is_valid_triangle(3,2,1)\n",
        "print( result )"
      ],
      "metadata": {
        "colab": {
          "base_uri": "https://localhost:8080/"
        },
        "id": "ELI9aYYq2K-b",
        "outputId": "6e267ada-efc7-49de-d600-6a11548da636"
      },
      "execution_count": 15,
      "outputs": [
        {
          "output_type": "stream",
          "name": "stdout",
          "text": [
            "True\n",
            "False\n"
          ]
        }
      ]
    },
    {
      "cell_type": "code",
      "source": [
        "# Class Task 2.2\n",
        "def tri_area(a,b,c) :\n",
        "  if is_valid_triangle(a,b,c) :\n",
        "    s = (a+b+c)/2\n",
        "    print((s*(s-a)*(s-b)*(s-c))**0.5)\n",
        "  else :\n",
        "    print(\"Can't form triangle\")\n",
        "\n",
        "tri_area(3,2,1)\n",
        "tri_area(7,5,10)"
      ],
      "metadata": {
        "colab": {
          "base_uri": "https://localhost:8080/"
        },
        "id": "EIrlsd8w3Edy",
        "outputId": "a633a640-9e2e-4359-cb91-70bbd1e296d0"
      },
      "execution_count": 16,
      "outputs": [
        {
          "output_type": "stream",
          "name": "stdout",
          "text": [
            "Can't form triangle\n",
            "16.24807680927192\n"
          ]
        }
      ]
    },
    {
      "cell_type": "code",
      "source": [
        "# Class Task 3.1\n",
        "def circle(a) :\n",
        "  return 3.1416*a*a\n",
        "circle(5)"
      ],
      "metadata": {
        "colab": {
          "base_uri": "https://localhost:8080/"
        },
        "id": "GsrsxYQh3vmC",
        "outputId": "af045e9f-50a6-40cd-b7dc-66b09c7d332f"
      },
      "execution_count": 18,
      "outputs": [
        {
          "output_type": "execute_result",
          "data": {
            "text/plain": [
              "78.54"
            ]
          },
          "metadata": {},
          "execution_count": 18
        }
      ]
    },
    {
      "cell_type": "code",
      "source": [
        "# Class Task 3.2\n",
        "def sphere(a) :\n",
        "  return (4/3)*3.1416*(a**3)\n",
        "sphere(5)"
      ],
      "metadata": {
        "colab": {
          "base_uri": "https://localhost:8080/"
        },
        "id": "-QEg0lBR39C5",
        "outputId": "7ba1397a-778f-496f-c8a4-5e58462e2439"
      },
      "execution_count": 19,
      "outputs": [
        {
          "output_type": "execute_result",
          "data": {
            "text/plain": [
              "523.5999999999999"
            ]
          },
          "metadata": {},
          "execution_count": 19
        }
      ]
    },
    {
      "cell_type": "code",
      "source": [
        "# Class Task 3.3\n",
        "def fitting(a, b, c) :\n",
        "  if c == 2 :\n",
        "    # print(circle(a), circle(b))\n",
        "    if circle(b)-circle(a) > 0 :\n",
        "      print(\"Circle-1 can fit inside Circle-2 and\", circle(b)-circle(a),\"square units would be left.\")\n",
        "    else :\n",
        "      print(\"Impossible to fit\")\n",
        "  else :\n",
        "    # print(sphere(a), sphere(b))\n",
        "    if sphere(a)-sphere(b) > 0 :\n",
        "      print(\"Sphere-2 can fit inside Sphere-1 and\", sphere(a)-sphere(b), \"cubic units would be left.\")\n",
        "    else :\n",
        "      print(\"Impossible to fit\")\n",
        "\n",
        "fitting(8,10,2)\n",
        "fitting(30,14,3)\n",
        "fitting(5,5,3)"
      ],
      "metadata": {
        "colab": {
          "base_uri": "https://localhost:8080/"
        },
        "id": "FDjH-Jre4aty",
        "outputId": "bfdc3aa6-2f5c-4ae3-8593-6e7c60e335d4"
      },
      "execution_count": 22,
      "outputs": [
        {
          "output_type": "stream",
          "name": "stdout",
          "text": [
            "Circle-1 can fit inside Circle-2 and 113.09760000000003 square units would be left.\n",
            "Sphere-2 can fit inside Sphere-1 and 101603.53279999999 cubic units would be left.\n",
            "Impossible to fit\n"
          ]
        }
      ]
    },
    {
      "cell_type": "code",
      "source": [
        "# Class Task 5.1\n",
        "def one_to_N(a, n) :\n",
        "  if a == n:\n",
        "    print(a)\n",
        "    return n\n",
        "  else :\n",
        "    print(a, end = \" \")\n",
        "    one_to_N(a+1, n)\n",
        "n = int(input())\n",
        "one_to_N(1, n)\n",
        "# You will get an extra input if you run this code in google colab. Do not panic, it will not show in other compilers"
      ],
      "metadata": {
        "colab": {
          "base_uri": "https://localhost:8080/"
        },
        "id": "pv06VGdq7vrB",
        "outputId": "0c27e200-29c8-422c-d314-d3019bea4fc7"
      },
      "execution_count": 31,
      "outputs": [
        {
          "output_type": "stream",
          "name": "stdout",
          "text": [
            "5\n",
            "1 2 3 4 5\n"
          ]
        }
      ]
    },
    {
      "cell_type": "code",
      "source": [
        "# Class Task 5.2\n",
        "def reverse_printing(a, n) :\n",
        "  if n == a :\n",
        "    print(n)\n",
        "    return n\n",
        "  else :\n",
        "    print(n, end= \" \")\n",
        "    reverse_printing(a, n-1)\n",
        "n = int(input())\n",
        "reverse_printing(1, n)"
      ],
      "metadata": {
        "colab": {
          "base_uri": "https://localhost:8080/"
        },
        "id": "i42teXZBALWJ",
        "outputId": "da127289-c91b-4045-ba9b-9c8472cfcb5e"
      },
      "execution_count": 30,
      "outputs": [
        {
          "output_type": "stream",
          "name": "stdout",
          "text": [
            "6\n",
            "6 5 4 3 2 1\n"
          ]
        }
      ]
    },
    {
      "cell_type": "code",
      "source": [
        "# Class Task 5.3\n",
        "sum = 0\n",
        "def reverse_summation(a, n) :\n",
        "  if n == a :\n",
        "    return n\n",
        "  else :\n",
        "    return(n+reverse_summation(a, n-1))\n",
        "n = int(input())\n",
        "reverse_summation(1, n)"
      ],
      "metadata": {
        "colab": {
          "base_uri": "https://localhost:8080/"
        },
        "id": "heMy8lYPBJtA",
        "outputId": "d717a023-fb7c-4754-bac6-c8d219b33a3e"
      },
      "execution_count": 36,
      "outputs": [
        {
          "name": "stdout",
          "output_type": "stream",
          "text": [
            "12\n"
          ]
        },
        {
          "output_type": "execute_result",
          "data": {
            "text/plain": [
              "78"
            ]
          },
          "metadata": {},
          "execution_count": 36
        }
      ]
    },
    {
      "cell_type": "code",
      "source": [
        "# Home Task 1.1\n",
        "def is_prime(a) :\n",
        "  for index in range(2,a) :\n",
        "    if a%index == 0 :\n",
        "      return False\n",
        "  return True\n",
        "prime_check = is_prime(7)\n",
        "print(prime_check)\n",
        "prime_check = is_prime(15)\n",
        "print(prime_check)"
      ],
      "metadata": {
        "colab": {
          "base_uri": "https://localhost:8080/"
        },
        "id": "HRm53lOkCBx4",
        "outputId": "5a617567-8eed-47fc-ebad-7f05fa5bae61"
      },
      "execution_count": 37,
      "outputs": [
        {
          "output_type": "stream",
          "name": "stdout",
          "text": [
            "True\n",
            "False\n"
          ]
        }
      ]
    },
    {
      "cell_type": "code",
      "source": [
        "# Home Task 1.2\n",
        "def is_perfect(a) :\n",
        "  sum = 0\n",
        "  for index in range(1,a) :\n",
        "    if a%index == 0 :\n",
        "      sum += index\n",
        "  if sum == a :\n",
        "    return True\n",
        "  return False\n",
        "perfect_check = is_perfect(6)\n",
        "print(perfect_check)\n",
        "perfect_check = is_perfect(33)\n",
        "print(perfect_check)"
      ],
      "metadata": {
        "colab": {
          "base_uri": "https://localhost:8080/"
        },
        "id": "0S_RNpXZCXGO",
        "outputId": "cd6cd904-ac98-4d96-d98b-5158364fdd85"
      },
      "execution_count": 40,
      "outputs": [
        {
          "output_type": "stream",
          "name": "stdout",
          "text": [
            "True\n",
            "False\n"
          ]
        }
      ]
    },
    {
      "cell_type": "code",
      "source": [
        "# Home Task 1.3\n",
        "def special_sum(a) :\n",
        "  sum = 0\n",
        "  for index in range(2, a) :\n",
        "    if (is_prime(index)) :\n",
        "      sum += index\n",
        "    if (is_perfect(index)) :\n",
        "      sum += index\n",
        "  return sum\n",
        "result = special_sum(8)\n",
        "print(result)\n",
        "result = special_sum(30)\n",
        "print(result)"
      ],
      "metadata": {
        "colab": {
          "base_uri": "https://localhost:8080/"
        },
        "id": "_R_Z3ehpDGpw",
        "outputId": "c3ca5bd8-7198-4859-ce48-dea17b44b82f"
      },
      "execution_count": 43,
      "outputs": [
        {
          "output_type": "stream",
          "name": "stdout",
          "text": [
            "23\n",
            "163\n"
          ]
        }
      ]
    },
    {
      "cell_type": "code",
      "source": [
        "# Home Task 2.1\n",
        "def show_dots(a) :\n",
        "  print(\".\"*a, end = \"\")\n",
        "show_dots(5)\n",
        "print()\n",
        "show_dots(3)"
      ],
      "metadata": {
        "colab": {
          "base_uri": "https://localhost:8080/"
        },
        "id": "AbxzIp5ZDrrY",
        "outputId": "4457a939-e769-48e2-a00b-f67ecd49e172"
      },
      "execution_count": 55,
      "outputs": [
        {
          "output_type": "stream",
          "name": "stdout",
          "text": [
            ".....\n",
            "..."
          ]
        }
      ]
    },
    {
      "cell_type": "code",
      "source": [
        "# Home Task 2.2\n",
        "def show_palindrome(a) :\n",
        "  for index in range(1,a+1) :\n",
        "    print(index, end=\"\")\n",
        "  for index in range(a-1,0,-1) :\n",
        "    print(index, end = \"\")\n",
        "  print(end=\"\")\n",
        "show_palindrome(5)\n",
        "print()\n",
        "show_palindrome(3)"
      ],
      "metadata": {
        "colab": {
          "base_uri": "https://localhost:8080/"
        },
        "id": "LFLbZ470D5wv",
        "outputId": "97381131-6a03-443f-d71d-53c5ff861d9c"
      },
      "execution_count": 54,
      "outputs": [
        {
          "output_type": "stream",
          "name": "stdout",
          "text": [
            "123454321\n",
            "12321"
          ]
        }
      ]
    },
    {
      "cell_type": "code",
      "source": [
        "# Home Task 2.3\n",
        "def show_triangle(a) :\n",
        "  for index in range(1, a+1) :\n",
        "    show_dots(a-index)\n",
        "    show_palindrome(index)\n",
        "    show_dots(a-index)\n",
        "    print()\n",
        "show_triangle(3)\n",
        "show_triangle(5)"
      ],
      "metadata": {
        "colab": {
          "base_uri": "https://localhost:8080/"
        },
        "id": "MHreka6iEkdA",
        "outputId": "70b5da0a-a4b0-4d4c-fe17-5dce04433512"
      },
      "execution_count": 58,
      "outputs": [
        {
          "output_type": "stream",
          "name": "stdout",
          "text": [
            "..1..\n",
            ".121.\n",
            "12321\n",
            "....1....\n",
            "...121...\n",
            "..12321..\n",
            ".1234321.\n",
            "123454321\n"
          ]
        }
      ]
    },
    {
      "cell_type": "code",
      "source": [
        "# Home Task 3.1\n",
        "def calc_tax(age, salary) :\n",
        "  if age > 18 :\n",
        "    if salary <= 10000 :\n",
        "      return 0\n",
        "    elif salary <= 20000 :\n",
        "      return 0.07*salary\n",
        "    else :\n",
        "      return 0.14*salary\n",
        "  else :\n",
        "    return 0\n",
        "\n",
        "t = calc_tax(16,20000)\n",
        "print(t)\n",
        "t = calc_tax(20,18000)\n",
        "print(t)"
      ],
      "metadata": {
        "colab": {
          "base_uri": "https://localhost:8080/"
        },
        "id": "Pz_AQ_cyFRUg",
        "outputId": "d259e903-c5fe-4417-ce7d-5f6d459512d0"
      },
      "execution_count": 61,
      "outputs": [
        {
          "output_type": "stream",
          "name": "stdout",
          "text": [
            "0\n",
            "1260.0000000000002\n"
          ]
        }
      ]
    },
    {
      "cell_type": "code",
      "source": [
        "# Home Task 3.2\n",
        "def calc_yearly_tax() :\n",
        "  age = int(input())\n",
        "  sum = 0\n",
        "  for index in range(1, 13) :\n",
        "    salary = int(input())\n",
        "    a = calc_tax(age, salary)\n",
        "    sum += a\n",
        "    print(f\"Month{index} tax: {a}\")\n",
        "  print(f\"Total Yearly Tax: {sum}\")\n",
        "calc_yearly_tax()"
      ],
      "metadata": {
        "colab": {
          "base_uri": "https://localhost:8080/"
        },
        "id": "7rl3puvjI7c2",
        "outputId": "152dcffd-9d0d-4364-9ba3-4d8492a5013f"
      },
      "execution_count": 64,
      "outputs": [
        {
          "output_type": "stream",
          "name": "stdout",
          "text": [
            "22\n",
            "8000\n",
            "Month1 tax: 0\n",
            "15000\n",
            "Month2 tax: 1050.0\n",
            "22000\n",
            "Month3 tax: 3080.0000000000005\n",
            "2300\n",
            "Month4 tax: 0\n",
            "15300\n",
            "Month5 tax: 1071.0\n",
            "21000\n",
            "Month6 tax: 2940.0000000000005\n",
            "34000\n",
            "Month7 tax: 4760.0\n",
            "9000\n",
            "Month8 tax: 0\n",
            "27000\n",
            "Month9 tax: 3780.0000000000005\n",
            "88000\n",
            "Month10 tax: 12320.000000000002\n",
            "32000\n",
            "Month11 tax: 4480.0\n",
            "7300\n",
            "Month12 tax: 0\n",
            "Total Yearly Tax: 33481.0\n"
          ]
        }
      ]
    },
    {
      "cell_type": "code",
      "source": [
        "# Home Task 4.1\n",
        "def reverse_digits(n) :\n",
        "  if (n//10 == 0) :\n",
        "    print(n)\n",
        "    return n\n",
        "  else :\n",
        "    print(n%10)\n",
        "    reverse_digits(n//10)\n",
        "reverse_digits(12345)"
      ],
      "metadata": {
        "colab": {
          "base_uri": "https://localhost:8080/"
        },
        "id": "F4J0g93SKWnG",
        "outputId": "ca93f02b-5bbe-442b-d426-ee8e44f21b4a"
      },
      "execution_count": 67,
      "outputs": [
        {
          "output_type": "stream",
          "name": "stdout",
          "text": [
            "5\n",
            "4\n",
            "3\n",
            "2\n",
            "1\n"
          ]
        }
      ]
    },
    {
      "cell_type": "code",
      "source": [
        "# Home Task 4.2\n",
        "def power(a, n) :\n",
        "  if n == 1 :\n",
        "    return a\n",
        "  else :\n",
        "    return a* power(a, n-1)\n",
        "a = int(input())\n",
        "b = int(input())\n",
        "power(a, b)"
      ],
      "metadata": {
        "colab": {
          "base_uri": "https://localhost:8080/"
        },
        "id": "iu785MX0MYJ1",
        "outputId": "f7a755db-3cfc-48fc-ecc5-ce07dcab71e5"
      },
      "execution_count": 69,
      "outputs": [
        {
          "name": "stdout",
          "output_type": "stream",
          "text": [
            "9\n",
            "4\n"
          ]
        },
        {
          "output_type": "execute_result",
          "data": {
            "text/plain": [
              "6561"
            ]
          },
          "metadata": {},
          "execution_count": 69
        }
      ]
    },
    {
      "cell_type": "code",
      "source": [
        "# Home Task 5.0\n",
        "def sequence_iterative(a) :\n",
        "  sum = 0\n",
        "  for index in range(a+1) :\n",
        "    if index%2 == 0 :\n",
        "      sum -= index\n",
        "    else :\n",
        "      sum += index\n",
        "  print(sum)\n",
        "sequence_iterative(int(input()))"
      ],
      "metadata": {
        "colab": {
          "base_uri": "https://localhost:8080/"
        },
        "id": "fsoac3HWMyRF",
        "outputId": "a3a7a493-1931-401b-e783-fa74699429cd"
      },
      "execution_count": 72,
      "outputs": [
        {
          "output_type": "stream",
          "name": "stdout",
          "text": [
            "10\n",
            "-5\n"
          ]
        }
      ]
    },
    {
      "cell_type": "code",
      "source": [
        "# Home Task  5.1\n",
        "def sequence_recursive(a) :\n",
        "  if a == 1 :\n",
        "    return a\n",
        "  else :\n",
        "    if a%2 == 0 :\n",
        "      return -a + sequence_recursive(a-1)\n",
        "    else :\n",
        "      return a+ sequence_recursive(a-1)\n",
        "sequence_recursive(int(input()))"
      ],
      "metadata": {
        "colab": {
          "base_uri": "https://localhost:8080/"
        },
        "id": "n78vWVQANZ_9",
        "outputId": "1fe1eba9-23e9-4823-eb13-5a9f4c1984de"
      },
      "execution_count": 74,
      "outputs": [
        {
          "name": "stdout",
          "output_type": "stream",
          "text": [
            "10\n"
          ]
        },
        {
          "output_type": "execute_result",
          "data": {
            "text/plain": [
              "-5"
            ]
          },
          "metadata": {},
          "execution_count": 74
        }
      ]
    }
  ]
}