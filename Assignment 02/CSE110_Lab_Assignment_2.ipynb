{
  "nbformat": 4,
  "nbformat_minor": 0,
  "metadata": {
    "colab": {
      "provenance": []
    },
    "kernelspec": {
      "name": "python3",
      "display_name": "Python 3"
    },
    "language_info": {
      "name": "python"
    }
  },
  "cells": [
    {
      "cell_type": "code",
      "execution_count": 2,
      "metadata": {
        "id": "GzM457rH0B0k",
        "colab": {
          "base_uri": "https://localhost:8080/"
        },
        "outputId": "b80d06a3-c109-4347-a97c-57bbeb331812"
      },
      "outputs": [
        {
          "output_type": "stream",
          "name": "stdout",
          "text": [
            "-44\n",
            "The number is even\n"
          ]
        }
      ],
      "source": [
        "# Class Task 01\n",
        "a = int(input())\n",
        "if a%2 == 0 :\n",
        "  print(\"The number is even\")\n",
        "else :\n",
        "  print(\"The number is odd\")"
      ]
    },
    {
      "cell_type": "code",
      "source": [
        "# Class Task 02\n",
        "a = int(input())\n",
        "b = int(input())\n",
        "if a == b :\n",
        "  print(\"The numbers are equal\")\n",
        "elif a > b :\n",
        "  print(\"First is greater\")\n",
        "else :\n",
        "  print(\"Second is greater\")"
      ],
      "metadata": {
        "colab": {
          "base_uri": "https://localhost:8080/"
        },
        "id": "iQK3Ixn1085M",
        "outputId": "47e2efbf-e793-4beb-f63f-840ede593309"
      },
      "execution_count": 5,
      "outputs": [
        {
          "output_type": "stream",
          "name": "stdout",
          "text": [
            "11\n",
            "11\n",
            "The numbers are equal\n"
          ]
        }
      ]
    },
    {
      "cell_type": "code",
      "source": [
        "# Class Task 03\n",
        "a = int(input())\n",
        "if a%2 == 0 or a%5 == 0 :\n",
        "  print(a)\n",
        "else :\n",
        "  print(\"Not a multiple of 2 OR 5\")"
      ],
      "metadata": {
        "colab": {
          "base_uri": "https://localhost:8080/"
        },
        "id": "IEDRileU1cs1",
        "outputId": "fcd900b0-42d6-4985-83c9-c5564256d0fe"
      },
      "execution_count": 8,
      "outputs": [
        {
          "output_type": "stream",
          "name": "stdout",
          "text": [
            "3\n",
            "Not a multiple of 2 OR 5\n"
          ]
        }
      ]
    },
    {
      "cell_type": "code",
      "source": [
        "# Class Task 04\n",
        "a = int(input())\n",
        "if a%2 == 0 and a%5 == 0 :\n",
        "  print(a)\n",
        "else :\n",
        "  print(\"Not a multiple of 2 and 5 both\")"
      ],
      "metadata": {
        "colab": {
          "base_uri": "https://localhost:8080/"
        },
        "id": "yCTUFJ6u124O",
        "outputId": "b29250bf-35b7-4899-d7e4-04befc7b907c"
      },
      "execution_count": 11,
      "outputs": [
        {
          "output_type": "stream",
          "name": "stdout",
          "text": [
            "6\n",
            "Not a multiple of 2 and 5 both\n"
          ]
        }
      ]
    },
    {
      "cell_type": "code",
      "source": [
        "# Class Task 05\n",
        "a = float(input())\n",
        "b = int(input())\n",
        "if b >= 30 :\n",
        "  if a >= 4.00:\n",
        "    print(\"The student is eligible for a waiver of 100 percent\")\n",
        "  elif a>=3.95 :\n",
        "    print(\"The student is eligible for a waiver of 75 percent\")\n",
        "  elif a>= 3.9:\n",
        "    print(\"The student is eligible for a waiver of 50 percent\")\n",
        "  elif a >= 3.8 :\n",
        "    print(\"The student is eligible for a waiver of 25 percent\")\n",
        "  else :\n",
        "    print(\"The student is not eligible for a waiver \")\n",
        "else :\n",
        "  print(\"The student is not eligible for a waiver \")"
      ],
      "metadata": {
        "colab": {
          "base_uri": "https://localhost:8080/"
        },
        "id": "VJkNydUU2FxU",
        "outputId": "1995bae6-2b7f-491f-b8aa-896041f7f736"
      },
      "execution_count": 16,
      "outputs": [
        {
          "output_type": "stream",
          "name": "stdout",
          "text": [
            "3.93\n",
            "78\n",
            "The student is eligible for a waiver of 50 percent\n"
          ]
        }
      ]
    },
    {
      "cell_type": "code",
      "source": [
        "# Class Evaluation Task 01\n",
        "a = int(input())\n",
        "if a < 0 :\n",
        "  print(\"Hour cannot be negative\")\n",
        "elif a > 168 :\n",
        "  print(\"Impossible to work more than 168 hours weekly\")\n",
        "else :\n",
        "  if a<= 40 :\n",
        "    print(a*200)\n",
        "  else :\n",
        "    print(8000+(a-40)*300)"
      ],
      "metadata": {
        "colab": {
          "base_uri": "https://localhost:8080/"
        },
        "id": "KiATcCWz31j5",
        "outputId": "764827c2-f935-49a4-cdfe-c60686114955"
      },
      "execution_count": 20,
      "outputs": [
        {
          "output_type": "stream",
          "name": "stdout",
          "text": [
            "170\n",
            "Impossible to work more than 168 hours weekly\n"
          ]
        }
      ]
    },
    {
      "cell_type": "code",
      "source": [
        "# Class Evaluation Task 01\n",
        "a = int(input())\n",
        "print(\"Hours:\",(a//3600))\n",
        "a %= 3600\n",
        "print(\"Minutes:\",(a//60))\n",
        "print(\"Seconds:\",(a%60))"
      ],
      "metadata": {
        "colab": {
          "base_uri": "https://localhost:8080/"
        },
        "id": "h3fyI1M65dhD",
        "outputId": "c6e6d20c-a10b-4381-ada7-7bf7e9761550"
      },
      "execution_count": 22,
      "outputs": [
        {
          "output_type": "stream",
          "name": "stdout",
          "text": [
            "500\n",
            "Hours: 0\n",
            "Minutes: 8\n",
            "Seconds: 20\n"
          ]
        }
      ]
    },
    {
      "cell_type": "code",
      "source": [
        "# Class Evaluation Task 02\n",
        "a = int(input())\n",
        "b = int(input())\n",
        "a /= 1000\n",
        "b /= 3600\n",
        "print(a/b, \"km/h\")\n",
        "if a/b < 60 :\n",
        "  print(\"Too slow. It needs more charge.\")\n",
        "elif a/b < 90 :\n",
        "  print(\"Velocity is okay. The car is ready!\")\n",
        "else :\n",
        "  print(\"Too fast. Only a few changes should be suffice.\")"
      ],
      "metadata": {
        "colab": {
          "base_uri": "https://localhost:8080/"
        },
        "id": "ZBIJzcbi6qhk",
        "outputId": "66accf7c-5183-49f3-da72-0a42ef4e63a4"
      },
      "execution_count": 25,
      "outputs": [
        {
          "output_type": "stream",
          "name": "stdout",
          "text": [
            "25400\n",
            "3600\n",
            "25.4 km/h\n",
            "Too slow.It needs more charge.\n"
          ]
        }
      ]
    },
    {
      "cell_type": "code",
      "source": [
        "# Home Task 01\n",
        "a = int(input())\n",
        "b = int(input())\n",
        "if a > b :\n",
        "  print(a-b)\n",
        "else :\n",
        "  print(b-a)"
      ],
      "metadata": {
        "colab": {
          "base_uri": "https://localhost:8080/"
        },
        "id": "fVFI_lrf7w65",
        "outputId": "6e2248f2-b5b1-4eb1-f037-e0a20c5f4863"
      },
      "execution_count": 28,
      "outputs": [
        {
          "output_type": "stream",
          "name": "stdout",
          "text": [
            "5\n",
            "5\n",
            "0\n"
          ]
        }
      ]
    },
    {
      "cell_type": "code",
      "source": [
        "# Home Task 02\n",
        "a = int(input())\n",
        "if a%2== 0 and a%5 == 0:\n",
        "  print(\"Multiple of 2 and 5 both\")\n",
        "elif a%2 == 0 or a%5 == 0:\n",
        "  print(a)\n",
        "else :\n",
        "  print(\"Not a multiple we want\")"
      ],
      "metadata": {
        "colab": {
          "base_uri": "https://localhost:8080/"
        },
        "id": "Yr9HBqlM8Bpc",
        "outputId": "a957cada-9be2-4894-f8dd-b1ae31a06d0c"
      },
      "execution_count": 32,
      "outputs": [
        {
          "output_type": "stream",
          "name": "stdout",
          "text": [
            "17\n",
            "Not a multiple we want\n"
          ]
        }
      ]
    },
    {
      "cell_type": "code",
      "source": [
        "# Home Task 03\n",
        "a = int(input())\n",
        "if a<100 :\n",
        "  print(3000-125*(a**2))\n",
        "else :\n",
        "  print(12000/(4+(a*a)/14900))"
      ],
      "metadata": {
        "colab": {
          "base_uri": "https://localhost:8080/"
        },
        "id": "jhAtjT1m8wYi",
        "outputId": "8a493b34-9bdb-4379-a71b-0bcb36531987"
      },
      "execution_count": 35,
      "outputs": [
        {
          "output_type": "stream",
          "name": "stdout",
          "text": [
            "3\n",
            "1875\n"
          ]
        }
      ]
    },
    {
      "cell_type": "code",
      "source": [
        "# Home Task 04\n",
        "a = int(input())\n",
        "if a>= 0 and a<= 23 :\n",
        "  if a>=4 and a<=6 :\n",
        "    print(\"Breakfast\")\n",
        "  elif a>= 12 and a<= 13 :\n",
        "    print(\"Lunch\")\n",
        "  elif a>= 16 and a<=17 :\n",
        "    print(\"Snacks\")\n",
        "  elif a>=19 and a<= 20 :\n",
        "    print(\"Dinner\")\n",
        "  else :\n",
        "    print(\"Patience is a virtue\")\n",
        "else :\n",
        "  print(\"Wrong time\")"
      ],
      "metadata": {
        "colab": {
          "base_uri": "https://localhost:8080/"
        },
        "id": "H9p9zcSc9M7x",
        "outputId": "20554912-0909-4d98-e788-d88bd42559f8"
      },
      "execution_count": 39,
      "outputs": [
        {
          "output_type": "stream",
          "name": "stdout",
          "text": [
            "27\n",
            "Wrong time\n"
          ]
        }
      ]
    },
    {
      "cell_type": "code",
      "source": [
        "# Home Task 05\n",
        "a = int(input())\n",
        "if 0<=a<=100 :\n",
        "  if a>= 90 :\n",
        "    print(\"A\")\n",
        "  elif a >= 80 :\n",
        "    print(\"B\")\n",
        "  elif a>= 70 :\n",
        "    print(\"C\")\n",
        "  elif a>= 60 :\n",
        "    print(\"D\")\n",
        "  elif a>= 50 :\n",
        "    print(\"E\")\n",
        "  else :\n",
        "    print(\"F\")\n",
        "else :\n",
        "  print(\"Wrong number\")"
      ],
      "metadata": {
        "colab": {
          "base_uri": "https://localhost:8080/"
        },
        "id": "ZmiazAoP-YnT",
        "outputId": "c0eff089-6fff-4544-e232-123b3144e52a"
      },
      "execution_count": 40,
      "outputs": [
        {
          "output_type": "stream",
          "name": "stdout",
          "text": [
            "90\n",
            "A\n"
          ]
        }
      ]
    }
  ]
}