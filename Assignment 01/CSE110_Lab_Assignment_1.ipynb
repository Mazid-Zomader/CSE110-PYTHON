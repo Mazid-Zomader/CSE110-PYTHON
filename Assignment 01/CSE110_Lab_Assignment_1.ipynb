{
  "nbformat": 4,
  "nbformat_minor": 0,
  "metadata": {
    "colab": {
      "provenance": []
    },
    "kernelspec": {
      "name": "python3",
      "display_name": "Python 3"
    },
    "language_info": {
      "name": "python"
    }
  },
  "cells": [
    {
      "cell_type": "code",
      "execution_count": 1,
      "metadata": {
        "colab": {
          "base_uri": "https://localhost:8080/"
        },
        "id": "szV-839Br3PO",
        "outputId": "59ba04a2-f1a4-43ad-db47-4925a782c826"
      },
      "outputs": [
        {
          "output_type": "stream",
          "name": "stdout",
          "text": [
            "hello world\n",
            "21\n",
            "hello world\n",
            "21\n"
          ]
        }
      ],
      "source": [
        "# 1.1\n",
        "a = input()\n",
        "b = int(input())\n",
        "print(a)\n",
        "print(b)"
      ]
    },
    {
      "cell_type": "code",
      "source": [
        "# 1.2\n",
        "a = int(input())\n",
        "b = int(input())\n",
        "print(f\"Summation: {a+b}\")\n",
        "print(f\"Multiplication: {a*b}\")\n"
      ],
      "metadata": {
        "colab": {
          "base_uri": "https://localhost:8080/"
        },
        "id": "VeeoH_fvsolj",
        "outputId": "45e10ff1-5313-4b3c-edd8-5a734b1f56b3"
      },
      "execution_count": 2,
      "outputs": [
        {
          "output_type": "stream",
          "name": "stdout",
          "text": [
            "10\n",
            "5\n",
            "Summation: 15\n",
            "Multiplication: 50\n"
          ]
        }
      ]
    },
    {
      "cell_type": "code",
      "source": [
        "# 1.3\n",
        "a = int(input())\n",
        "b = float(input())\n",
        "print(a+b, end= \" \")\n",
        "print(a-b)\n"
      ],
      "metadata": {
        "colab": {
          "base_uri": "https://localhost:8080/"
        },
        "id": "RHTPpErzs9pZ",
        "outputId": "3bb8bc09-f490-4683-a98e-87b784e8028e"
      },
      "execution_count": 3,
      "outputs": [
        {
          "output_type": "stream",
          "name": "stdout",
          "text": [
            "4\n",
            "5\n",
            "9.0 -1.0\n"
          ]
        }
      ]
    },
    {
      "cell_type": "code",
      "source": [
        "# 1.4\n",
        "a = int(input())\n",
        "b = int(input())\n",
        "b = float(b)\n",
        "a = str(a)\n",
        "b = str(b)\n",
        "print(a+b)"
      ],
      "metadata": {
        "colab": {
          "base_uri": "https://localhost:8080/"
        },
        "id": "3fB8OcSOtEm9",
        "outputId": "f19dbed3-5b4c-4087-ef5f-13ba6b9fc465"
      },
      "execution_count": 5,
      "outputs": [
        {
          "output_type": "stream",
          "name": "stdout",
          "text": [
            "2\n",
            "3\n",
            "23.0\n"
          ]
        }
      ]
    },
    {
      "cell_type": "code",
      "source": [
        "# 2\n",
        "a = int(input())\n",
        "b = int(input())\n",
        "print(f\"{a}^{b}:{a**b}\")"
      ],
      "metadata": {
        "colab": {
          "base_uri": "https://localhost:8080/"
        },
        "id": "d7QPEnIJtc4k",
        "outputId": "35ccefba-06a3-47b9-d6e6-9361a665e11c"
      },
      "execution_count": 6,
      "outputs": [
        {
          "output_type": "stream",
          "name": "stdout",
          "text": [
            "2\n",
            "3\n",
            "2^3:8\n"
          ]
        }
      ]
    },
    {
      "cell_type": "code",
      "source": [
        "# 3\n",
        "a = int(input())\n",
        "print(int(a-(a%4)))"
      ],
      "metadata": {
        "colab": {
          "base_uri": "https://localhost:8080/"
        },
        "id": "bwi-_5ZatrFa",
        "outputId": "2b8f46ec-4e2c-4860-f0eb-dfe673e37ed6"
      },
      "execution_count": 13,
      "outputs": [
        {
          "output_type": "stream",
          "name": "stdout",
          "text": [
            "23\n",
            "20\n"
          ]
        }
      ]
    },
    {
      "cell_type": "code",
      "source": [
        "# E1\n",
        "a = int(input())\n",
        "b = int(input())\n",
        "c = int(input())\n",
        "d = float(input())\n",
        "print(int((a**c)+(2*b)*(a//2)-d/3))"
      ],
      "metadata": {
        "colab": {
          "base_uri": "https://localhost:8080/"
        },
        "id": "rcYxmg7xuyhF",
        "outputId": "a2f4a41d-c747-47a2-be33-e4c61aa09d55"
      },
      "execution_count": 17,
      "outputs": [
        {
          "output_type": "stream",
          "name": "stdout",
          "text": [
            "88\n",
            "22\n",
            "1\n",
            "3.3\n",
            "2022\n"
          ]
        }
      ]
    },
    {
      "cell_type": "code",
      "source": [
        "# E2\n",
        "first = input(\"First Name: \")\n",
        "last = input(\"Last Name: \")\n",
        "age = int(input(\"Age: \"))\n",
        "cgpa = float(input(\"CGPA: \"))\n",
        "print(f\"Name: {first} {last}\\nAge: {age}\\nCGPA: {cgpa}\")"
      ],
      "metadata": {
        "colab": {
          "base_uri": "https://localhost:8080/"
        },
        "id": "MHWnH7OFvXwc",
        "outputId": "3aaa4a86-ebef-4ef3-f48e-e57ba02c8cd9"
      },
      "execution_count": 18,
      "outputs": [
        {
          "output_type": "stream",
          "name": "stdout",
          "text": [
            "First Name: Labiba\n",
            "Last Name: Arif\n",
            "Age: 21\n",
            "CGPA: 3.95\n",
            "Name: Labiba Arif\n",
            "Age: 21\n",
            "CGPA: 3.95\n"
          ]
        }
      ]
    },
    {
      "cell_type": "code",
      "source": [
        "# HT 3\n",
        "a = int(input())\n",
        "print(f\"Each friend will receive {int(a/3)} chocolates\\nThe number of remaining chocolates is {int(a%3)} \")"
      ],
      "metadata": {
        "colab": {
          "base_uri": "https://localhost:8080/"
        },
        "id": "pAE7iaQrwF0l",
        "outputId": "e2ad0f8a-2b8a-47a9-d22b-c4b013af11ba"
      },
      "execution_count": 20,
      "outputs": [
        {
          "output_type": "stream",
          "name": "stdout",
          "text": [
            "90\n",
            "Each friend will receive 30 chocolates\n",
            "The number of remaining chocolates is 0 \n"
          ]
        }
      ]
    }
  ]
}